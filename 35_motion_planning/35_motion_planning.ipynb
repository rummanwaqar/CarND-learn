{
 "cells": [
  {
   "cell_type": "markdown",
   "metadata": {},
   "source": [
    "# Motion Planning"
   ]
  },
  {
   "cell_type": "code",
   "execution_count": 29,
   "metadata": {},
   "outputs": [],
   "source": [
    "# Grid format:\n",
    "#   0 = Navigable space\n",
    "#   1 = Occupied space\n",
    "\n",
    "\n",
    "grid = [[0, 0, 1, 0, 0, 0],\n",
    "        [0, 0, 1, 0, 0, 0],\n",
    "        [0, 0, 0, 0, 1, 0],\n",
    "        [0, 0, 1, 1, 1, 0],\n",
    "        [0, 0, 0, 0, 1, 0]]\n",
    "init = [0, 0]\n",
    "goal = [len(grid)-1, len(grid[0])-1]\n",
    "cost = 1\n",
    "\n",
    "delta = [[-1, 0], # go up\n",
    "         [ 0,-1], # go left\n",
    "         [ 1, 0], # go down\n",
    "         [ 0, 1]] # go right\n",
    "\n",
    "delta_name = ['^', '<', 'v', '>']"
   ]
  },
  {
   "cell_type": "markdown",
   "metadata": {},
   "source": [
    "## Search algorithm iteration"
   ]
  },
  {
   "cell_type": "code",
   "execution_count": 114,
   "metadata": {},
   "outputs": [
    {
     "data": {
      "text/plain": [
       "[[0, 1, -1, 14, 17, 19],\n",
       " [2, 3, -1, 12, 15, 18],\n",
       " [4, 5, 7, 10, -1, 20],\n",
       " [6, 8, -1, -1, -1, 21],\n",
       " [9, 11, 13, 16, -1, 22]]"
      ]
     },
     "execution_count": 114,
     "metadata": {},
     "output_type": "execute_result"
    }
   ],
   "source": [
    "# get expansion grid for search\n",
    "def search(grid,init,goal,cost):\n",
    "    rows = len(grid)\n",
    "    cols = len(grid[0])    \n",
    "    checked = [[0]*cols for _ in range(rows)]\n",
    "    expand = [[-1]*cols for _ in range(rows)]\n",
    "\n",
    "    open = [[0, init[0], init[1]]]\n",
    "    count = 0\n",
    "    \n",
    "    while len(open) > 0:\n",
    "        # take an item from open list\n",
    "        open.sort()\n",
    "        open.reverse()\n",
    "        take = open.pop()\n",
    "        expand[take[1]][take[2]] = count\n",
    "        count += cost\n",
    "        checked[take[1]][take[2]] = 1\n",
    "        if take[1] == goal[0] and take[2] == goal[1]:\n",
    "            return expand\n",
    "\n",
    "        # expand\n",
    "        for move in delta:\n",
    "            n = [take[0]+cost, take[1]+move[0], take[2]+move[1]]\n",
    "            if 0 <= n[1] < rows and 0 <= n[2] < cols: # within the grid\n",
    "                if grid[n[1]][n[2]] == 0: # unobstructed space\n",
    "                    if checked[n[1]][n[2]] == 0: # not checked already\n",
    "                        open.append(n)\n",
    "                        checked[n[1]][n[2]] = 1\n",
    "    return expand\n",
    "expansion = search(grid, init, goal, cost)\n",
    "expansion"
   ]
  },
  {
   "cell_type": "code",
   "execution_count": 115,
   "metadata": {},
   "outputs": [
    {
     "data": {
      "text/plain": [
       "[0, 2, 4, 5, 7, 10, 12, 15, 18, 20, 21, 22]"
      ]
     },
     "execution_count": 115,
     "metadata": {},
     "output_type": "execute_result"
    }
   ],
   "source": [
    "# get a list of costs that lead to path\n",
    "rows = len(grid)\n",
    "cols = len(grid[0])\n",
    "\n",
    "smallest_l = []\n",
    "if expansion[goal[0]][goal[1]] != -1:\n",
    "    current = goal\n",
    "    smallest_l = [expansion[goal[0]][goal[1]]]\n",
    "    \n",
    "    while current != init:\n",
    "        for move in delta:\n",
    "            n = [current[0]+move[0], current[1]+move[1]]\n",
    "            if 0 <= n[0] < rows and 0 <= n[1] < cols: # within the grid\n",
    "                if expansion[n[0]][n[1]] != -1: # unobstructed space\n",
    "                    if expansion[n[0]][n[1]] < expansion[current[0]][current[1]]:\n",
    "                        latest = [n[0], n[1]]\n",
    "        \n",
    "        smallest_l.append(expansion[latest[0]][latest[1]])\n",
    "        current = latest\n",
    "\n",
    "smallest_l.reverse()\n",
    "smallest_l"
   ]
  },
  {
   "cell_type": "code",
   "execution_count": 116,
   "metadata": {},
   "outputs": [
    {
     "data": {
      "text/plain": [
       "[['v', ' ', ' ', ' ', ' ', ' '],\n",
       " ['v', ' ', ' ', '>', '>', 'v'],\n",
       " ['>', '>', '>', '^', ' ', 'v'],\n",
       " [' ', ' ', ' ', ' ', ' ', 'v'],\n",
       " [' ', ' ', ' ', ' ', ' ', '*']]"
      ]
     },
     "execution_count": 116,
     "metadata": {},
     "output_type": "execute_result"
    }
   ],
   "source": [
    "# generate path from costs\n",
    "path = [[' ']*cols for _ in range(rows)]\n",
    "path[goal[0]][goal[1]] = '*'\n",
    "\n",
    "current = init\n",
    "for i in range(len(smallest_l)-1):\n",
    "    for j, move in enumerate(delta):\n",
    "        n = [current[0]+move[0], current[1]+move[1]]\n",
    "        if 0 <= n[0] < rows and 0 <= n[1] < cols: # within the grid\n",
    "            if expansion[n[0]][n[1]] == smallest_l[i+1]:\n",
    "                path[current[0]][current[1]] = delta_name[j]\n",
    "                current = n\n",
    "path"
   ]
  },
  {
   "cell_type": "code",
   "execution_count": 146,
   "metadata": {},
   "outputs": [
    {
     "data": {
      "text/plain": [
       "[['>', 'v', ' ', ' ', ' ', ' '],\n",
       " [' ', 'v', ' ', '>', '>', 'v'],\n",
       " [' ', '>', '>', '^', ' ', 'v'],\n",
       " [' ', ' ', ' ', ' ', ' ', 'v'],\n",
       " [' ', ' ', ' ', ' ', ' ', '*']]"
      ]
     },
     "execution_count": 146,
     "metadata": {},
     "output_type": "execute_result"
    }
   ],
   "source": [
    "# better algorithm \n",
    "# get expansion grid for search\n",
    "def search(grid,init,goal,cost):\n",
    "    rows = len(grid)\n",
    "    cols = len(grid[0])    \n",
    "    checked = [[0]*cols for _ in range(rows)]\n",
    "    actions = [[-1]*cols for _ in range(rows)]\n",
    "    \n",
    "    x = init[0]\n",
    "    y = init[1]\n",
    "    g = 0\n",
    "    \n",
    "    open = [[g,x,y]]\n",
    "    checked[x][y] = 1\n",
    "    \n",
    "    while len(open) > 0:\n",
    "        # take an item from open list\n",
    "        open.sort()\n",
    "        open.reverse()\n",
    "        take = open.pop()\n",
    "        x = take[1]\n",
    "        y = take[2]\n",
    "        g = take[0]\n",
    "        if x == goal[0] and y == goal[1]:\n",
    "            break\n",
    "\n",
    "        # expand\n",
    "        for i, move in enumerate(delta):\n",
    "            x2 = x + move[0]\n",
    "            y2 = y + move[1]\n",
    "            if 0 <= x2 < rows and 0 <= y2 < cols: # within the grid\n",
    "                if grid[x2][y2] == 0 and checked[x2][y2] == 0: # unobstructed space and not checked already\n",
    "                    g2 = g + cost\n",
    "                    open.append([g2,x2,y2])\n",
    "                    checked[x2][y2] = 1\n",
    "                    actions[x2][y2] = i\n",
    "                  \n",
    "    # generate policy\n",
    "    policy = [[' ']*cols for _ in range(rows)]\n",
    "    x = goal[0]\n",
    "    y = goal[1]\n",
    "    policy[x][y] = '*'\n",
    "    while x != init[0] and y != init[1]:\n",
    "        x2 = x - delta[actions[x][y]][0]\n",
    "        y2 = y - delta[actions[x][y]][1]\n",
    "        policy[x2][y2] = delta_name[actions[x][y]]\n",
    "        x = x2\n",
    "        y = y2\n",
    "    policy[init[0]][init[1]] = delta_name[actions[x][y]]\n",
    "    return policy\n",
    "    \n",
    "policy = search(grid, init, goal, cost)\n",
    "policy"
   ]
  },
  {
   "cell_type": "markdown",
   "metadata": {},
   "source": [
    "## A* Search"
   ]
  },
  {
   "cell_type": "code",
   "execution_count": 208,
   "metadata": {},
   "outputs": [],
   "source": [
    "grid = [[0, 1, 0, 0, 0, 0],\n",
    "        [0, 1, 0, 0, 0, 0],\n",
    "        [0, 1, 0, 0, 0, 0],\n",
    "        [0, 1, 0, 0, 0, 0],\n",
    "        [0, 0, 0, 0, 1, 0]]\n",
    "heuristic = [[9, 8, 7, 6, 5, 4],\n",
    "             [8, 7, 6, 5, 4, 3],\n",
    "             [7, 6, 5, 4, 3, 2],\n",
    "             [6, 5, 4, 3, 2, 1],\n",
    "             [5, 4, 3, 2, 1, 0]]\n",
    "\n",
    "init = [0, 0]\n",
    "goal = [len(grid)-1, len(grid[0])-1]\n",
    "cost = 1\n",
    "\n",
    "delta = [[-1, 0 ], # go up\n",
    "         [ 0, -1], # go left\n",
    "         [ 1, 0 ], # go down\n",
    "         [ 0, 1 ]] # go right\n",
    "\n",
    "delta_name = ['^', '<', 'v', '>']"
   ]
  },
  {
   "cell_type": "code",
   "execution_count": 209,
   "metadata": {},
   "outputs": [
    {
     "data": {
      "text/plain": [
       "[[0, -1, -1, -1, -1, -1],\n",
       " [1, -1, -1, -1, -1, -1],\n",
       " [2, -1, -1, -1, -1, -1],\n",
       " [3, -1, 8, 9, 10, 11],\n",
       " [4, 5, 6, 7, -1, 12]]"
      ]
     },
     "execution_count": 209,
     "metadata": {},
     "output_type": "execute_result"
    }
   ],
   "source": [
    "# expansion\n",
    "def search(grid,init,goal,cost,heuristic):\n",
    "    closed = [[0 for col in range(len(grid[0]))] for row in range(len(grid))]\n",
    "    closed[init[0]][init[1]] = 1\n",
    "\n",
    "    expand = [[-1 for col in range(len(grid[0]))] for row in range(len(grid))]\n",
    "    action = [[-1 for col in range(len(grid[0]))] for row in range(len(grid))]\n",
    "\n",
    "    x = init[0]\n",
    "    y = init[1]\n",
    "    g = 0\n",
    "    f = g + heuristic[x][y]\n",
    "\n",
    "    open = [[f, g, x, y]]\n",
    "\n",
    "    found = False  # flag that is set when search is complete\n",
    "    resign = False # flag set if we can't find expand\n",
    "    count = 0\n",
    "    \n",
    "    while not found and not resign:\n",
    "        if len(open) == 0:\n",
    "            resign = True\n",
    "            return \"Fail\"\n",
    "        else:\n",
    "            open.sort()\n",
    "            open.reverse()\n",
    "            next = open.pop()\n",
    "            x = next[2]\n",
    "            y = next[3]\n",
    "            f = next[0]\n",
    "            g = next[1]\n",
    "            expand[x][y] = count\n",
    "            count += 1\n",
    "            \n",
    "            if x == goal[0] and y == goal[1]:\n",
    "                found = True\n",
    "            else:\n",
    "                for i in range(len(delta)):\n",
    "                    x2 = x + delta[i][0]\n",
    "                    y2 = y + delta[i][1]\n",
    "                    if x2 >= 0 and x2 < len(grid) and y2 >=0 and y2 < len(grid[0]):\n",
    "                        if closed[x2][y2] == 0 and grid[x2][y2] == 0:\n",
    "                            g2 = g + cost\n",
    "                            f2 = g2 + heuristic[x2][y2]\n",
    "                            open.append([f2, g2, x2, y2])\n",
    "                            closed[x2][y2] = 1\n",
    "\n",
    "    return expand\n",
    "search(grid, init, goal, cost, heuristic)"
   ]
  },
  {
   "cell_type": "markdown",
   "metadata": {},
   "source": [
    "## Dynamic Programming for path planning"
   ]
  },
  {
   "cell_type": "code",
   "execution_count": 210,
   "metadata": {},
   "outputs": [],
   "source": [
    "grid = [[0, 1, 0, 0, 0, 0],\n",
    "        [0, 1, 0, 0, 0, 0],\n",
    "        [0, 1, 0, 0, 0, 0],\n",
    "        [0, 1, 0, 0, 0, 0],\n",
    "        [0, 0, 0, 0, 1, 0]]\n",
    "goal = [len(grid)-1, len(grid[0])-1]\n",
    "cost = 1 # the cost associated with moving from a cell to an adjacent one\n",
    "\n",
    "delta = [[-1, 0 ], # go up\n",
    "         [ 0, -1], # go left\n",
    "         [ 1, 0 ], # go down\n",
    "         [ 0, 1 ]] # go right\n",
    "\n",
    "delta_name = ['^', '<', 'v', '>']"
   ]
  },
  {
   "cell_type": "code",
   "execution_count": 211,
   "metadata": {},
   "outputs": [
    {
     "data": {
      "text/plain": [
       "[[11, 99, 7, 6, 5, 4],\n",
       " [10, 99, 6, 5, 4, 3],\n",
       " [9, 99, 5, 4, 3, 2],\n",
       " [8, 99, 4, 3, 2, 1],\n",
       " [7, 6, 5, 4, 99, 0]]"
      ]
     },
     "execution_count": 211,
     "metadata": {},
     "output_type": "execute_result"
    }
   ],
   "source": [
    "def compute_value(grid,goal,cost):\n",
    "    # initialize value function\n",
    "    value = [[99 for col in range(len(grid[0]))] for row in range(len(grid))]\n",
    "    closed = [[0 for col in range(len(grid[0]))] for row in range(len(grid))]\n",
    "    closed[goal[0]][goal[1]] = 1\n",
    "    \n",
    "    open = [[0, goal[0], goal[1]]]\n",
    "    while len(open) > 0:\n",
    "        open.sort()\n",
    "        open.reverse()\n",
    "        next = open.pop()\n",
    "        x = next[1]\n",
    "        y = next[2]\n",
    "        v = next[0]\n",
    "        value[x][y] = v\n",
    "        for move in delta:\n",
    "            x2 = x + move[0]\n",
    "            y2 = y + move[1]\n",
    "            v2 = v + cost\n",
    "            if x2 >= 0 and x2 < len(grid) and y2 >=0 and y2 < len(grid[0]):\n",
    "                if closed[x2][y2] == 0 and grid[x2][y2] == 0:\n",
    "                    open.append([v2, x2, y2])\n",
    "                    closed[x2][y2] = 1\n",
    "    return value \n",
    "compute_value(grid, goal, cost)"
   ]
  },
  {
   "cell_type": "code",
   "execution_count": 212,
   "metadata": {},
   "outputs": [
    {
     "data": {
      "text/plain": [
       "[[99, 99, 99, 99, 5, 4],\n",
       " [99, 99, 99, 99, 4, 3],\n",
       " [99, 99, 99, 99, 3, 2],\n",
       " [99, 99, 99, 99, 2, 1],\n",
       " [99, 99, 99, 99, 1, 0]]"
      ]
     },
     "execution_count": 212,
     "metadata": {},
     "output_type": "execute_result"
    }
   ],
   "source": [
    "grid = [[0, 1, 0, 1, 0, 0],\n",
    "        [0, 1, 0, 1, 0, 0],\n",
    "        [0, 1, 0, 1, 0, 0],\n",
    "        [0, 1, 0, 1, 0, 0],\n",
    "        [0, 0, 0, 1, 0, 0]]\n",
    "goal = [len(grid)-1, len(grid[0])-1]\n",
    "compute_value(grid, goal, cost)"
   ]
  },
  {
   "cell_type": "code",
   "execution_count": 213,
   "metadata": {},
   "outputs": [],
   "source": [
    "grid = [[0, 1, 0, 0, 0, 0],\n",
    "        [0, 1, 0, 0, 0, 0],\n",
    "        [0, 1, 0, 0, 0, 0],\n",
    "        [0, 1, 0, 0, 0, 0],\n",
    "        [0, 0, 0, 0, 1, 0]]\n",
    "init = [0, 0]\n",
    "goal = [len(grid)-1, len(grid[0])-1]\n",
    "cost = 1 # the cost associated with moving from a cell to an adjacent one\n",
    "\n",
    "delta = [[-1, 0 ], # go up\n",
    "         [ 0, -1], # go left\n",
    "         [ 1, 0 ], # go down\n",
    "         [ 0, 1 ]] # go right\n",
    "\n",
    "delta_name = ['^', '<', 'v', '>']"
   ]
  },
  {
   "cell_type": "code",
   "execution_count": 214,
   "metadata": {},
   "outputs": [
    {
     "data": {
      "text/plain": [
       "[['v', ' ', 'v', 'v', 'v', 'v'],\n",
       " ['v', ' ', 'v', 'v', 'v', 'v'],\n",
       " ['v', ' ', 'v', 'v', 'v', 'v'],\n",
       " ['v', ' ', '>', '>', '>', 'v'],\n",
       " ['>', '>', '^', '^', ' ', '*']]"
      ]
     },
     "execution_count": 214,
     "metadata": {},
     "output_type": "execute_result"
    }
   ],
   "source": [
    "def optimum_policy(grid,goal,cost):\n",
    "    value = [[99 for row in range(len(grid[0]))] for col in range(len(grid))]\n",
    "    policy = [[' ' for col in range(len(grid[0]))] for row in range(len(grid))]\n",
    "    change = True\n",
    "\n",
    "    while change:\n",
    "        change = False\n",
    "\n",
    "        for x in range(len(grid)):\n",
    "            for y in range(len(grid[0])):\n",
    "                if goal[0] == x and goal[1] == y:\n",
    "                    if value[x][y] > 0:\n",
    "                        value[x][y] = 0\n",
    "                        policy[x][y] = '*'\n",
    "                        change = True\n",
    "\n",
    "                elif grid[x][y] == 0:\n",
    "                    for a in range(len(delta)):\n",
    "                        x2 = x + delta[a][0]\n",
    "                        y2 = y + delta[a][1]\n",
    "\n",
    "                        if x2 >= 0 and x2 < len(grid) and y2 >= 0 and y2 < len(grid[0]) and grid[x2][y2] == 0:\n",
    "                            v2 = value[x2][y2] + cost\n",
    "\n",
    "                            if v2 < value[x][y]:\n",
    "                                policy[x][y] = delta_name[a]\n",
    "                                change = True\n",
    "                                value[x][y] = v2\n",
    "\n",
    "    return policy\n",
    "optimum_policy(grid, goal, cost)"
   ]
  },
  {
   "cell_type": "markdown",
   "metadata": {},
   "source": [
    "## 2D grid policy\n",
    "\n",
    "You are given a car in grid with initial state init. Your task is to compute and return the car's optimal path to the position specified in goal. \n",
    "\n",
    "The costs for each motion are as defined in cost.\n",
    "\n",
    "There are four motion directions: up, left, down, and right. Increasing the index in this array corresponds to making a left turn, and decreasing the index corresponds to making a right turn."
   ]
  },
  {
   "cell_type": "code",
   "execution_count": 108,
   "metadata": {},
   "outputs": [],
   "source": [
    "forward = [[-1,  0], # go up\n",
    "           [ 0, -1], # go left\n",
    "           [ 1,  0], # go down\n",
    "           [ 0,  1]] # go right\n",
    "forward_name = ['up', 'left', 'down', 'right']\n",
    "\n",
    "# action has 3 values: right turn, no turn, left turn\n",
    "action = [-1, 0, 1]\n",
    "action_name = ['R', '#', 'L']\n",
    "\n",
    "# EXAMPLE INPUTS:\n",
    "# grid format:\n",
    "#     0 = navigable space\n",
    "#     1 = unnavigable space \n",
    "grid = [[1, 1, 1, 0, 0, 0],\n",
    "        [1, 1, 1, 0, 1, 0],\n",
    "        [0, 0, 0, 0, 0, 0],\n",
    "        [1, 1, 1, 0, 1, 1],\n",
    "        [1, 1, 1, 0, 1, 1]]\n",
    "\n",
    "init = [4, 3, 0] # given in the form [row,col,direction]\n",
    "                 # direction = 0: up\n",
    "                 #             1: left\n",
    "                 #             2: down\n",
    "                 #             3: right\n",
    "                \n",
    "goal = [2, 0] # given in the form [row,col]\n",
    "\n",
    "cost = [2, 1, 20] # cost has 3 values, corresponding to making \n",
    "                  # a right turn, no turn, and a left turn\n",
    "\n",
    "# EXAMPLE OUTPUT:\n",
    "# calling optimum_policy2D with the given parameters should return \n",
    "# [[' ', ' ', ' ', 'R', '#', 'R'],\n",
    "#  [' ', ' ', ' ', '#', ' ', '#'],\n",
    "#  ['*', '#', '#', '#', '#', 'R'],\n",
    "#  [' ', ' ', ' ', '#', ' ', ' '],\n",
    "#  [' ', ' ', ' ', '#', ' ', ' ']]\n",
    "# ----------"
   ]
  },
  {
   "cell_type": "code",
   "execution_count": 110,
   "metadata": {},
   "outputs": [
    {
     "data": {
      "text/plain": [
       "[[' ', ' ', ' ', 'R', '#', 'R'],\n",
       " [' ', ' ', ' ', '#', ' ', '#'],\n",
       " ['*', '#', '#', '#', '#', 'R'],\n",
       " [' ', ' ', ' ', '#', ' ', ' '],\n",
       " [' ', ' ', ' ', '#', ' ', ' ']]"
      ]
     },
     "execution_count": 110,
     "metadata": {},
     "output_type": "execute_result"
    }
   ],
   "source": [
    "def optimum_policy2D(grid,init,goal,cost):\n",
    "    value = [[[999 for k in range(len(grid[0]))] for j in range(len(grid))] for i in range(4)]\n",
    "    policy = [[[' ' for k in range(len(grid[0]))] for j in range(len(grid))] for i in range(4)]\n",
    "    changed = True\n",
    "    \n",
    "    while changed:\n",
    "        changed = False\n",
    "        for x in range(len(grid)):\n",
    "            for y in range(len(grid[0])):\n",
    "                for orientation in range(len(forward)):\n",
    "                    if goal[0] == x and goal[1] == y:\n",
    "                        if value[orientation][x][y] > 0:\n",
    "                            value[orientation][x][y] = 0\n",
    "                            policy[orientation][x][y] = '*'\n",
    "                            changed = True\n",
    "                    elif grid[x][y] == 0:\n",
    "                        # for each different action\n",
    "                        for i in range(len(action)):\n",
    "                            o2 = (orientation + action[i]) % 4\n",
    "                            x2 = x + forward[o2][0]\n",
    "                            y2 = y + forward[o2][1]\n",
    "                            \n",
    "                            if 0 <= x2 < len(grid) and 0 <= y2 < len(grid[0]) and grid[x2][y2] == 0:\n",
    "                                v2 = value[o2][x2][y2] + cost[i]\n",
    "                                if v2 < value[orientation][x][y]:\n",
    "                                    value[orientation][x][y] = v2\n",
    "                                    policy[orientation][x][y] = action_name[i]\n",
    "                                    changed = True\n",
    "\n",
    "    # make 2d policy (depends on initial condition)\n",
    "    # go though the policy from goal and set it up based on 3d policy\n",
    "    policy2d = [[' ' for k in range(len(grid[0]))] for j in range(len(grid))]\n",
    "    x = init[0]\n",
    "    y = init[1]\n",
    "    orientation = init[2]\n",
    "    policy2d[x][y] = policy[orientation][x][y]\n",
    "    while policy[orientation][x][y] != '*':\n",
    "        if policy[orientation][x][y] == '#':\n",
    "            o2 = orientation\n",
    "        elif policy[orientation][x][y] == 'R':\n",
    "            o2 = (orientation - 1) % 4\n",
    "        elif policy[orientation][x][y] == 'L':\n",
    "            o2 = (orientation + 1) % 4\n",
    "        x = x + forward[o2][0]\n",
    "        y = y + forward[o2][1]\n",
    "        orientation = o2\n",
    "        policy2d[x][y] = policy[orientation][x][y]\n",
    "    return policy2d\n",
    "optimum_policy2D(grid, init, goal, cost)"
   ]
  },
  {
   "cell_type": "code",
   "execution_count": 215,
   "metadata": {},
   "outputs": [],
   "source": []
  },
  {
   "cell_type": "code",
   "execution_count": null,
   "metadata": {},
   "outputs": [],
   "source": []
  }
 ],
 "metadata": {
  "kernelspec": {
   "display_name": "Python 3",
   "language": "python",
   "name": "python3"
  },
  "language_info": {
   "codemirror_mode": {
    "name": "ipython",
    "version": 3
   },
   "file_extension": ".py",
   "mimetype": "text/x-python",
   "name": "python",
   "nbconvert_exporter": "python",
   "pygments_lexer": "ipython3",
   "version": "3.5.2"
  }
 },
 "nbformat": 4,
 "nbformat_minor": 2
}
