{
 "cells": [
  {
   "cell_type": "markdown",
   "metadata": {},
   "source": [
    "# Particle Filter C++ Implementation"
   ]
  },
  {
   "cell_type": "code",
   "execution_count": 1,
   "metadata": {},
   "outputs": [],
   "source": [
    "#include <vector>\n",
    "#include <iostream>\n",
    "#include <random>\n",
    "\n",
    "using namespace std;"
   ]
  },
  {
   "cell_type": "code",
   "execution_count": 2,
   "metadata": {},
   "outputs": [],
   "source": [
    "struct State_t {\n",
    "    double x;\n",
    "    double y;\n",
    "    double theta;\n",
    "};"
   ]
  },
  {
   "cell_type": "markdown",
   "metadata": {},
   "source": [
    "## Initialization\n",
    "Initialize particle filter using GPS (Gaussian Distribution)"
   ]
  },
  {
   "cell_type": "code",
   "execution_count": 3,
   "metadata": {},
   "outputs": [],
   "source": [
    "auto initialize(State_t mean, State_t stdev, int n) {\n",
    "    vector<State_t> particles;\n",
    "    \n",
    "    // create gaussian distributions\n",
    "    std::default_random_engine gen;\n",
    "    normal_distribution<double> dist_x(mean.x, stdev.x);\n",
    "    normal_distribution<double> dist_y(mean.y, stdev.y);\n",
    "    normal_distribution<double> dist_t(mean.theta, stdev.theta);\n",
    "\n",
    "    for(int i=0; i<n; i++) {\n",
    "        particles.push_back(State_t{dist_x(gen), dist_y(gen), dist_t(gen)});\n",
    "    }\n",
    "    \n",
    "    return particles;\n",
    "}"
   ]
  },
  {
   "cell_type": "code",
   "execution_count": 4,
   "metadata": {},
   "outputs": [],
   "source": [
    "double gps_x = 4983;\n",
    "double gps_y = 5029;\n",
    "double theta = 1.201;\n",
    "\n",
    "double std_x = 2;\n",
    "double std_y = 2;\n",
    "double std_theta = 0.05;\n",
    "\n",
    "vector<State_t> init_particles = initialize(State_t{gps_x, gps_y, theta}, State_t{std_x, std_y, std_theta}, 3);"
   ]
  },
  {
   "cell_type": "code",
   "execution_count": 5,
   "metadata": {},
   "outputs": [
    {
     "name": "stdout",
     "output_type": "stream",
     "text": [
      "Sample 4980.52 5032.22 1.27014\n",
      "Sample 4982.19 5029.8 1.20362\n",
      "Sample 4981.19 5025.68 1.20479\n"
     ]
    }
   ],
   "source": [
    "for(auto const& particle : init_particles) {\n",
    "    // Print your samples to the terminal.\n",
    "    std::cout << \"Sample \" << particle.x << \" \" << particle.y << \" \" \n",
    "              << particle.theta << std::endl;\n",
    "}"
   ]
  },
  {
   "cell_type": "code",
   "execution_count": null,
   "metadata": {},
   "outputs": [],
   "source": []
  }
 ],
 "metadata": {
  "kernelspec": {
   "display_name": "C++17",
   "language": "C++17",
   "name": "xeus-cling-cpp17"
  },
  "language_info": {
   "codemirror_mode": "text/x-c++src",
   "file_extension": ".cpp",
   "mimetype": "text/x-c++src",
   "name": "c++",
   "version": "-std=c++17"
  }
 },
 "nbformat": 4,
 "nbformat_minor": 2
}
