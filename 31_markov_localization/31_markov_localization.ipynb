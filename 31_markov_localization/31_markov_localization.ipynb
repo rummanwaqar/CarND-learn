{
 "cells": [
  {
   "cell_type": "markdown",
   "metadata": {},
   "source": [
    "# Markov Localization\n",
    "\n",
    "1D landmark based localization "
   ]
  },
  {
   "cell_type": "markdown",
   "metadata": {},
   "source": [
    "### Prerequisites\n",
    "\n",
    "Install jupyter c++ extensions\n",
    "```\n",
    "conda install xeus-cling xplot -c QuantStack -c conda-forge\n",
    "conda install widgetsnbextension -c conda-forge\n",
    "conda install bqplot -c conda-forge\n",
    "```"
   ]
  },
  {
   "cell_type": "markdown",
   "metadata": {},
   "source": [
    "### Problem Definition\n",
    "\n",
    "Known:\n",
    "* Observations in local frame (sensor measurements) *$z_{1:t}$*\n",
    "* Controls of car *$u_{1:t}$*\n",
    "* Map with landmarks in global coordinate system *m*\n",
    "\n",
    "Unknown:\n",
    "* Position of car *$x_t$*\n",
    "\n",
    "Posterior distribution: $bel(x_t) = p(x_t | z_{1:t}, u_{1:t}, m)$"
   ]
  },
  {
   "cell_type": "code",
   "execution_count": 1,
   "metadata": {},
   "outputs": [],
   "source": [
    "#include <iostream>\n",
    "#include <vector>\n",
    "#include <cmath>\n",
    "#include <algorithm>\n",
    "#include <numeric>\n",
    "\n",
    "#include \"xwidgets/xbox.hpp\"\n",
    "#include \"xplot/xfigure.hpp\"\n",
    "#include \"xplot/xmarks.hpp\"\n",
    "#include \"xplot/xaxes.hpp\"\n",
    "#include \"xplot/xtoolbar.hpp\"\n",
    "\n",
    "using namespace std;"
   ]
  },
  {
   "cell_type": "markdown",
   "metadata": {},
   "source": [
    "### Helpers"
   ]
  },
  {
   "cell_type": "code",
   "execution_count": 2,
   "metadata": {},
   "outputs": [],
   "source": [
    "// plot probability\n",
    "auto plot(vector<float> prob, float max = 1.0) {\n",
    "    std::vector<double> x(prob.size());\n",
    "    std::iota(x.begin(), x.end(), 0);\n",
    "\n",
    "    // memory leak here\n",
    "    xpl::ordinal_scale* sx = new xpl::ordinal_scale();\n",
    "    xpl::linear_scale* sy = new xpl::linear_scale();\n",
    "    sy->min = 0.0;\n",
    "    sy->max = max;\n",
    "    \n",
    "    // make figure\n",
    "    xpl::figure fig;\n",
    "    fig.add_mark(\n",
    "        xpl::bars_generator(*sx, *sy)\n",
    "        .x(x)\n",
    "        .y(prob)\n",
    "        .padding(0.5)\n",
    "        .colors(std::vector<std::string>({\"orange\"}))\n",
    "        .finalize());\n",
    "    fig.add_axis(xpl::axis_generator(*sx)\n",
    "        .label(\"location\")\n",
    "        .finalize());\n",
    "    fig.add_axis(xpl::axis_generator(*sy)\n",
    "        .label(\"probability\")\n",
    "        .orientation(\"vertical\")\n",
    "        .side(\"left\")\n",
    "        .finalize());\n",
    "    return fig;\n",
    "}"
   ]
  },
  {
   "cell_type": "code",
   "execution_count": 3,
   "metadata": {},
   "outputs": [],
   "source": [
    "// normalized probability density function\n",
    "float normpdf(float x, float mu, float std) {\n",
    "    return (1.f/sqrt(2*M_PI)*std) * exp(-0.5*pow((x-mu)/std, 2));\n",
    "}"
   ]
  },
  {
   "cell_type": "code",
   "execution_count": 4,
   "metadata": {},
   "outputs": [],
   "source": [
    "// normalize a vector:\n",
    "auto normalize_vector(std::vector<float> inputVector) {\n",
    "    //declare and resize output vector:\n",
    "    std::vector<float> outputVector(inputVector.size());\n",
    "    \n",
    "    //estimate the sum:\n",
    "    float sum = 0.0f;\n",
    "    for (unsigned int i = 0; i < inputVector.size(); ++i) {\n",
    "        sum += inputVector[i];\n",
    "    }\n",
    "\n",
    "    // normalize with sum:\n",
    "    for (unsigned int i = 0; i < inputVector.size(); ++i) {\n",
    "        outputVector[i] = inputVector[i]/sum;\n",
    "    }\n",
    "    return outputVector;\n",
    "}"
   ]
  },
  {
   "cell_type": "markdown",
   "metadata": {},
   "source": [
    "### Initial Conditions"
   ]
  },
  {
   "cell_type": "code",
   "execution_count": 5,
   "metadata": {},
   "outputs": [],
   "source": [
    "// set standard deviation of control\n",
    "float control_stdev = 1.0f;\n",
    "\n",
    "// set standard deviation of position\n",
    "float position_stdev = 1.0f;\n",
    "\n",
    "// meters vehicle moves per time step\n",
    "float movement_per_timestep = 1.0f;\n",
    "\n",
    "// set observation standard deviation\n",
    "float observation_stdev = 1.0f;\n",
    "\n",
    "// number of x positions on map\n",
    "int map_size = 25;\n",
    "\n",
    "// define landmarks\n",
    "vector<float> landmark_positions {3, 9, 14, 23};\n",
    "\n",
    "// define observations vector, each inner vector represents a set \n",
    "//   of observations for a time step\n",
    "vector<vector<float> > sensor_obs {{1,7,12,21}, {0,6,11,20}, {5,10,19},\n",
    "                                   {4,9,18}, {3,8,17}, {2,7,16}, {1,6,15}, \n",
    "                                   {0,5,14}, {4,13}, {3,12}, {2,11}, {1,10},\n",
    "                                   {0,9}, {8}, {7}, {6}, {5}, {4}, {3}, {2},\n",
    "                                   {1}, {0}, {}, {}, {}};"
   ]
  },
  {
   "cell_type": "markdown",
   "metadata": {},
   "source": [
    "### Initialize Priors\n",
    "Assuming we are parked next to a landmark and our position standard deviationis $+/-x$ (spread of our actual position)"
   ]
  },
  {
   "cell_type": "code",
   "execution_count": 6,
   "metadata": {},
   "outputs": [],
   "source": [
    "auto initialize_priors(int map_size, vector<float> landmark_positions, \n",
    "                       float position_stdev) {\n",
    "    // set all priors to zero\n",
    "    vector<float> priors(map_size, 0.0);\n",
    "    \n",
    "    // normalizer\n",
    "    float norm_term = landmark_positions.size() * (position_stdev * 2 + 1);\n",
    "    \n",
    "    // set each landmark +/- position_stddev to 1\n",
    "    for(auto const& landmark: landmark_positions) {\n",
    "        for(float j=landmark-position_stdev; j<=landmark+position_stdev; j++) {\n",
    "            priors[int(j) % map_size] += 1. / norm_term;\n",
    "        }\n",
    "    }\n",
    "    \n",
    "    return priors;\n",
    "}"
   ]
  },
  {
   "cell_type": "code",
   "execution_count": 7,
   "metadata": {},
   "outputs": [
    {
     "data": {
      "application/vnd.jupyter.widget-view+json": {
       "model_id": "d3d074d64ac04c5a9fc6fd666b616a7c",
       "version_major": 2,
       "version_minor": 0
      },
      "text/plain": [
       "A Jupyter widget"
      ]
     },
     "execution_count": 7,
     "metadata": {},
     "output_type": "execute_result"
    }
   ],
   "source": [
    "auto priors = initialize_priors(map_size, landmark_positions, position_stdev);\n",
    "\n",
    "xpl::figure fig = plot(priors);\n",
    "fig"
   ]
  },
  {
   "cell_type": "markdown",
   "metadata": {},
   "source": [
    "### Define belief as a recursive algorithm\n",
    "\n",
    "$bel(x_t) = p(x_t | z_{1:t}, u_{1:t}, m)$\n",
    "\n",
    "$bel(x_t) = p(x_t | z_t, z_{1:t-1}, u_{1:t}, m)$\n",
    "\n",
    "$bel(x_t) = \\frac {p(z_t | x_t, z_{1:t-1}, u_{1:t}, m) \\times p(x_t | z_{1:t-1}, u_{1:t}, m)} {p(x_t | z_{1:t-1}, u_{1:t}, m)} = $ Normalizer x Observation Model x Motion Model (Bayes rule)\n",
    "\n",
    "$\\eta = \\frac {1}{p(x_t | z_{1:t-1}, u_{1:t}, m)} = \\frac{1}{\\sum_{i}{p(z_t | x_t^i, z_{1:t-1}, u_{1:t}, m) \\times p(x_t^i | z_{1:t-1}, u_{1:t}, m)}}$ (Normalizer)"
   ]
  },
  {
   "cell_type": "markdown",
   "metadata": {},
   "source": [
    "### Motion Model\n",
    "\n",
    "$p(x_t | z_{1:t-1}, u_{1:t}, m) = \\int {p(x_t | x_{t-1}, z_{1:t-1}, u_{1:t}, m) p(x_{t-1} | z_{1:t-1}, u_{1:t}, m)} dx_{t-1}$ (Law of total probability)\n",
    "\n",
    "$p(x_t | z_{1:t-1}, u_{1:t}, m) = \\int {p(x_t | x_{t-1}, u_t, m) p(x_{t-1} | z_{1:t-1}, u_{1:t-1}, m)} dx_{t-1}$ = Transition Model x Prior (Markov Assumption)\n",
    "\n",
    "$p(x_t | z_{1:t-1}, u_{1:t}, m) = \\int {p(x_t | x_{t-1}, u_t, m) bel(x_{t-1})} dx_{t-1}$\n",
    "\n",
    "$p(x_t | z_{1:t-1}, u_{1:t}, m) = \\sum_i {p(x_t | x^i_{t-1}, u_t, m) bel(x^i_{t-1})}$\n",
    "\n",
    "Convolution of prior with transition model. Looking at the prior, this convolution yields the total probability that the vehicle started at the prior and wound up at $x_t$\n",
    "\n",
    "#### Implementation Assumption\n",
    "* Transition model is a 1D normal distribution.\n",
    "* Transition model is independent of map $p(x_t | x_{t-1}, u_t, m) = p(x_t | x_{t-1}, u_t)$\n",
    "* Transition model is defined by a 1D normal distribution with $\\mu=u_t$, $\\sigma = \\sigma_{u_t}$ -> $N(x_t - x^i_{t-1}; u_t; \\sigma_{u_t})$"
   ]
  },
  {
   "cell_type": "code",
   "execution_count": 8,
   "metadata": {},
   "outputs": [],
   "source": [
    "// calculate probability of being at an estimated position at time t\n",
    "float motion_model(float pseudo_position, float movement, vector<float> priors,\n",
    "                  int map_size, int control_stdev) {\n",
    "    float position_prob = 0.f;\n",
    "    \n",
    "    for(int i=0; i<map_size; i++) {\n",
    "        float distance_ij = pseudo_position - i;\n",
    "        float transition_prob = normpdf(distance_ij, movement, control_stdev);\n",
    "        position_prob += transition_prob*priors[i];\n",
    "    }\n",
    "    \n",
    "    return position_prob;\n",
    "}"
   ]
  },
  {
   "cell_type": "code",
   "execution_count": 9,
   "metadata": {},
   "outputs": [
    {
     "data": {
      "application/vnd.jupyter.widget-view+json": {
       "model_id": "200f86df46a145be9a28bef764939957",
       "version_major": 2,
       "version_minor": 0
      },
      "text/plain": [
       "A Jupyter widget"
      ]
     },
     "execution_count": 9,
     "metadata": {},
     "output_type": "execute_result"
    }
   ],
   "source": [
    "vector<float> motion_probs;\n",
    "// calculate prob for each possible position\n",
    "for(int i=0; i<map_size; i++) {\n",
    "    motion_probs.push_back(motion_model(i, movement_per_timestep, \n",
    "                                       priors, map_size, control_stdev));\n",
    "}\n",
    "auto fig1 = plot(motion_probs);\n",
    "fig1"
   ]
  },
  {
   "cell_type": "markdown",
   "metadata": {},
   "source": [
    "### Observation Model\n",
    "$p(z_t | x_t, z_{1:t-1}, u_{1:t}, m) = p(z_t | x_t, m)$ (Markov Assumption)\n",
    "\n",
    "Multiple observation model for each time step\n",
    "$p(z_t | x_t, m) = p(z^1_t, ..., z^K_t | x_t, m)$\n",
    "\n",
    "Since all observations are independent\n",
    "$p(z^1_t, ..., z^K_t | x_t, m) = \\prod^K_{k=1}{p(z^k_t | x_t, m)}$\n",
    "\n",
    "Therefore\n",
    "$p(z_t | x_t, z_{1:t-1}, u_{1:t}, m) = \\prod^K_{k=1}{p(z^k_t | x_t, m)}$\n",
    "\n",
    "#### Implementation Assumptions\n",
    "* All observations are independent\n",
    "* Range noise is Gaussian\n",
    "* Only forward measurements are included\n",
    "* Calculate psuedo ranges $z^*_t$ is estimated by $x_t$ and $m$. The psuedo range represent the range value if we are at $x_t$ in the map.\n",
    "* $p(z^k_t | x_t, m) = N(z^k_t, z^{*k}_t, \\sigma_{z_t})$"
   ]
  },
  {
   "cell_type": "code",
   "execution_count": 10,
   "metadata": {},
   "outputs": [],
   "source": [
    "// pseudo range estimator function\n",
    "auto pseudo_range_estimator(vector<float> landmark_positions, \n",
    "                            float pseudo_position) {\n",
    "  // define pseudo observation vector\n",
    "  vector<float> pseudo_ranges;\n",
    "  \n",
    "  // loop over number of landmarks and estimate pseudo ranges\n",
    "  for(auto const& landmark : landmark_positions) {\n",
    "    float dist = landmark - pseudo_position;\n",
    "    if(dist > 0) {\n",
    "      pseudo_ranges.push_back(dist);\n",
    "    }\n",
    "  }\n",
    "  \n",
    "  // sort pseudo range vector\n",
    "  std::sort(pseudo_ranges.begin(), pseudo_ranges.end());\n",
    "    \n",
    "  return pseudo_ranges;\n",
    "}"
   ]
  },
  {
   "cell_type": "code",
   "execution_count": 11,
   "metadata": {
    "scrolled": true
   },
   "outputs": [
    {
     "name": "stdout",
     "output_type": "stream",
     "text": [
      "x: 0\t3\n",
      "x: 0\t9\n",
      "x: 0\t14\n",
      "x: 0\t23\n",
      "-----------------------\n",
      "x: 1\t2\n",
      "x: 1\t8\n",
      "x: 1\t13\n",
      "x: 1\t22\n",
      "-----------------------\n",
      "x: 2\t1\n",
      "x: 2\t7\n",
      "x: 2\t12\n",
      "x: 2\t21\n",
      "-----------------------\n",
      "x: 3\t6\n",
      "x: 3\t11\n",
      "x: 3\t20\n",
      "-----------------------\n",
      "x: 4\t5\n",
      "x: 4\t10\n",
      "x: 4\t19\n",
      "-----------------------\n",
      "x: 5\t4\n",
      "x: 5\t9\n",
      "x: 5\t18\n",
      "-----------------------\n",
      "x: 6\t3\n",
      "x: 6\t8\n",
      "x: 6\t17\n",
      "-----------------------\n",
      "x: 7\t2\n",
      "x: 7\t7\n",
      "x: 7\t16\n",
      "-----------------------\n",
      "x: 8\t1\n",
      "x: 8\t6\n",
      "x: 8\t15\n",
      "-----------------------\n",
      "x: 9\t5\n",
      "x: 9\t14\n",
      "-----------------------\n",
      "x: 10\t4\n",
      "x: 10\t13\n",
      "-----------------------\n",
      "x: 11\t3\n",
      "x: 11\t12\n",
      "-----------------------\n",
      "x: 12\t2\n",
      "x: 12\t11\n",
      "-----------------------\n",
      "x: 13\t1\n",
      "x: 13\t10\n",
      "-----------------------\n",
      "x: 14\t9\n",
      "-----------------------\n",
      "x: 15\t8\n",
      "-----------------------\n",
      "x: 16\t7\n",
      "-----------------------\n",
      "x: 17\t6\n",
      "-----------------------\n",
      "x: 18\t5\n",
      "-----------------------\n",
      "x: 19\t4\n",
      "-----------------------\n",
      "x: 20\t3\n",
      "-----------------------\n",
      "x: 21\t2\n",
      "-----------------------\n",
      "x: 22\t1\n",
      "-----------------------\n"
     ]
    }
   ],
   "source": [
    "// step through each pseudo position x (i)\n",
    "for (int i = 0; i < map_size; ++i) {\n",
    "    float pseudo_position = float(i);\n",
    "    // get pseudo ranges\n",
    "    vector<float> pseudo_ranges = pseudo_range_estimator(landmark_positions, \n",
    "                                                         pseudo_position);\n",
    "    // print to stdout\n",
    "    if (pseudo_ranges.size() > 0) {\n",
    "        for (int s = 0; s < pseudo_ranges.size(); ++s) {\n",
    "            std::cout << \"x: \" << i << \"\\t\" << pseudo_ranges[s] << std::endl;\n",
    "        }\n",
    "        std::cout << \"-----------------------\" << std::endl;\n",
    "    }   \n",
    "} "
   ]
  },
  {
   "cell_type": "code",
   "execution_count": 12,
   "metadata": {},
   "outputs": [],
   "source": [
    "// calculates likelihood prob term based on landmark proximity for each pseudo position\n",
    "float observation_model(vector<float> landmark_positions, \n",
    "                       vector<float> observations, float pseudo_position,\n",
    "                       float observation_stdev) {\n",
    "    float distance_prob = 1.0f;\n",
    "    \n",
    "    vector<float> pseudo_ranges = pseudo_range_estimator(landmark_positions, \n",
    "                                                         pseudo_position);\n",
    "    // run over current observations\n",
    "    for(auto const& observation:observations) {\n",
    "        // define min distance\n",
    "        float pseudo_range_min;\n",
    "        \n",
    "        if(pseudo_ranges.size() > 0) {\n",
    "            // set min distance and remove from list\n",
    "            pseudo_range_min = pseudo_ranges[0];\n",
    "            pseudo_ranges.erase(pseudo_ranges.begin());\n",
    "        } else { // no landmark so set a large distance\n",
    "            pseudo_position = numeric_limits<const float>::infinity();\n",
    "        }\n",
    "        \n",
    "        // estimate prob for observation model\n",
    "        distance_prob *= normpdf(observation, pseudo_range_min, observation_stdev);\n",
    "    }\n",
    "    return distance_prob;\n",
    "}"
   ]
  },
  {
   "cell_type": "code",
   "execution_count": 13,
   "metadata": {},
   "outputs": [
    {
     "name": "stdout",
     "output_type": "stream",
     "text": [
      "0.000705351\n",
      "0.000427817\n",
      "1.29189e-05\n",
      "2.39697e-12\n",
      "8.70472e-08\n",
      "0.000157385\n",
      "0.0141673\n",
      "0.0634936\n",
      "0.0141673\n",
      "2.18575e-15\n",
      "1.45384e-12\n",
      "4.81444e-11\n",
      "7.93768e-11\n",
      "6.51564e-12\n",
      "4.50517e-24\n",
      "7.42778e-24\n",
      "6.09709e-25\n",
      "2.49174e-27\n",
      "5.06991e-31\n",
      "5.13586e-36\n",
      "2.5896e-42\n",
      "0\n",
      "0\n",
      "0\n",
      "0\n"
     ]
    }
   ],
   "source": [
    "// define observations\n",
    "vector<float> observation_probs;\n",
    "// step through each pseudo position x (i)\n",
    "for (int i = 0; i < map_size; ++i) {\n",
    "    // get observation probability\n",
    "    observation_probs.push_back(observation_model(landmark_positions, sensor_obs[5], \n",
    "                                                  i, observation_stdev));\n",
    "}\n",
    "for(auto const& ob:observation_probs) {\n",
    "    std::cout << ob << std::endl;\n",
    "}"
   ]
  },
  {
   "cell_type": "code",
   "execution_count": 14,
   "metadata": {},
   "outputs": [
    {
     "data": {
      "application/vnd.jupyter.widget-view+json": {
       "model_id": "df7728f114fa4b9b891e872a49dea095",
       "version_major": 2,
       "version_minor": 0
      },
      "text/plain": [
       "A Jupyter widget"
      ]
     },
     "execution_count": 14,
     "metadata": {},
     "output_type": "execute_result"
    }
   ],
   "source": [
    "auto fig2 = plot(normalize_vector(observation_probs));\n",
    "fig2"
   ]
  },
  {
   "cell_type": "markdown",
   "metadata": {},
   "source": [
    "### Complete localization filter"
   ]
  },
  {
   "cell_type": "code",
   "execution_count": 15,
   "metadata": {},
   "outputs": [],
   "source": [
    "// initial conditions are already set\n",
    "// priors are already initialized in the notebook\n",
    "\n",
    "vector<vector<float>> posterior_history;\n",
    "posterior_history.push_back(priors);\n",
    "vector<float> posterior(map_size, 0.0);\n",
    "int time_steps = sensor_obs.size();\n",
    "\n",
    "// cycle through each step\n",
    "for(int t = 0; t < time_steps; ++t) {\n",
    "    vector<float> observations;\n",
    "    \n",
    "    if(sensor_obs[t].empty()) {\n",
    "        observations = {float(map_size)};\n",
    "    } else {\n",
    "        observations = sensor_obs[t];\n",
    "    }\n",
    "    \n",
    "    // step through each psuedo position x(i)\n",
    "    for(int i=0; i < map_size; ++i) {\n",
    "        // motion prob\n",
    "        float motion_prob = motion_model(i, movement_per_timestep, priors, map_size, \n",
    "                                         control_stdev);\n",
    "        // observation prob\n",
    "        float obs_prob = observation_model(landmark_positions, observations, i, \n",
    "                                           observation_stdev);\n",
    "        // calculate ith posterior \n",
    "        posterior[i] = motion_prob * obs_prob;\n",
    "    }\n",
    "    posterior = normalize_vector(posterior);\n",
    "    priors = posterior;\n",
    "    posterior_history.push_back(posterior);\n",
    "}"
   ]
  },
  {
   "cell_type": "code",
   "execution_count": 16,
   "metadata": {},
   "outputs": [
    {
     "name": "stdout",
     "output_type": "stream",
     "text": [
      "26"
     ]
    }
   ],
   "source": [
    "std::cout << posterior_history.size();"
   ]
  },
  {
   "cell_type": "code",
   "execution_count": 17,
   "metadata": {},
   "outputs": [],
   "source": [
    "vector<xpl::figure> figures;\n",
    "for(auto const& p :posterior_history) {\n",
    "    figures.push_back(plot(p));\n",
    "}"
   ]
  },
  {
   "cell_type": "code",
   "execution_count": 18,
   "metadata": {},
   "outputs": [
    {
     "data": {
      "application/vnd.jupyter.widget-view+json": {
       "model_id": "78ce5508d2ae43d6a81b85c6ad357322",
       "version_major": 2,
       "version_minor": 0
      },
      "text/plain": [
       "A Jupyter widget"
      ]
     },
     "execution_count": 18,
     "metadata": {},
     "output_type": "execute_result"
    }
   ],
   "source": [
    "figures[0]"
   ]
  },
  {
   "cell_type": "code",
   "execution_count": 19,
   "metadata": {},
   "outputs": [
    {
     "data": {
      "application/vnd.jupyter.widget-view+json": {
       "model_id": "1f9491d33af24e3bb50bb8d255519a6f",
       "version_major": 2,
       "version_minor": 0
      },
      "text/plain": [
       "A Jupyter widget"
      ]
     },
     "execution_count": 19,
     "metadata": {},
     "output_type": "execute_result"
    }
   ],
   "source": [
    "figures[1]"
   ]
  },
  {
   "cell_type": "code",
   "execution_count": 20,
   "metadata": {},
   "outputs": [
    {
     "data": {
      "application/vnd.jupyter.widget-view+json": {
       "model_id": "15f473688946445da80071440763ee66",
       "version_major": 2,
       "version_minor": 0
      },
      "text/plain": [
       "A Jupyter widget"
      ]
     },
     "execution_count": 20,
     "metadata": {},
     "output_type": "execute_result"
    }
   ],
   "source": [
    "figures[2]"
   ]
  },
  {
   "cell_type": "code",
   "execution_count": 21,
   "metadata": {},
   "outputs": [
    {
     "data": {
      "application/vnd.jupyter.widget-view+json": {
       "model_id": "a2094c5a7a014680af2a92b4ea7216d7",
       "version_major": 2,
       "version_minor": 0
      },
      "text/plain": [
       "A Jupyter widget"
      ]
     },
     "execution_count": 21,
     "metadata": {},
     "output_type": "execute_result"
    }
   ],
   "source": [
    "figures[3]"
   ]
  },
  {
   "cell_type": "code",
   "execution_count": 22,
   "metadata": {},
   "outputs": [
    {
     "data": {
      "application/vnd.jupyter.widget-view+json": {
       "model_id": "d505cf656c1d484dbdd5f516b4b82a82",
       "version_major": 2,
       "version_minor": 0
      },
      "text/plain": [
       "A Jupyter widget"
      ]
     },
     "execution_count": 22,
     "metadata": {},
     "output_type": "execute_result"
    }
   ],
   "source": [
    "figures[4]"
   ]
  },
  {
   "cell_type": "code",
   "execution_count": 23,
   "metadata": {},
   "outputs": [
    {
     "data": {
      "application/vnd.jupyter.widget-view+json": {
       "model_id": "c80d41fe21754f298d195b06a62570a4",
       "version_major": 2,
       "version_minor": 0
      },
      "text/plain": [
       "A Jupyter widget"
      ]
     },
     "execution_count": 23,
     "metadata": {},
     "output_type": "execute_result"
    }
   ],
   "source": [
    "figures[9]"
   ]
  },
  {
   "cell_type": "code",
   "execution_count": 24,
   "metadata": {},
   "outputs": [
    {
     "data": {
      "application/vnd.jupyter.widget-view+json": {
       "model_id": "db9de3b1e83041459c3c2cd1deb03242",
       "version_major": 2,
       "version_minor": 0
      },
      "text/plain": [
       "A Jupyter widget"
      ]
     },
     "execution_count": 24,
     "metadata": {},
     "output_type": "execute_result"
    }
   ],
   "source": [
    "figures[20]"
   ]
  },
  {
   "cell_type": "code",
   "execution_count": 28,
   "metadata": {},
   "outputs": [
    {
     "data": {
      "application/vnd.jupyter.widget-view+json": {
       "model_id": "ac665568cbb94a83b7321f830baaa061",
       "version_major": 2,
       "version_minor": 0
      },
      "text/plain": [
       "A Jupyter widget"
      ]
     },
     "execution_count": 28,
     "metadata": {},
     "output_type": "execute_result"
    }
   ],
   "source": [
    "figures[22]"
   ]
  },
  {
   "cell_type": "code",
   "execution_count": null,
   "metadata": {},
   "outputs": [],
   "source": []
  }
 ],
 "metadata": {
  "kernelspec": {
   "display_name": "C++14",
   "language": "C++14",
   "name": "xeus-cling-cpp14"
  },
  "language_info": {
   "codemirror_mode": "text/x-c++src",
   "file_extension": ".cpp",
   "mimetype": "text/x-c++src",
   "name": "c++",
   "version": "-std=c++14"
  }
 },
 "nbformat": 4,
 "nbformat_minor": 2
}
