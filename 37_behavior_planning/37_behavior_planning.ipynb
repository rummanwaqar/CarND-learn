{
 "cells": [
  {
   "cell_type": "markdown",
   "metadata": {},
   "source": [
    "# Behaviour Planning"
   ]
  },
  {
   "cell_type": "code",
   "execution_count": 1,
   "metadata": {},
   "outputs": [],
   "source": [
    "#include <iostream>\n",
    "#include <cmath>\n",
    "#include <vector>"
   ]
  },
  {
   "cell_type": "markdown",
   "metadata": {},
   "source": [
    "## Lane change cost function "
   ]
  },
  {
   "cell_type": "markdown",
   "metadata": {},
   "source": [
    "Design a cost function to choose a lane when trying to reach a goal in highway driving:\n",
    "\n",
    "$\\text{cost} = 1 - e^{- \\frac{|\\Delta d|}{|\\Delta s|}}$\n",
    "\n",
    "Here, Δd was the lateral distance between the goal lane and the final chosen lane, and Δs was the longitudinal distance from the vehicle to the goal.\n",
    "\n",
    "The finite state machine we use for vehicle behavior also includes states for planning a lane change right or left (PLCR or PLCL), and the cost function should incorporate this information.\n",
    "\n",
    "Inputs:\n",
    "* **Intended lane:** the intended lane for the given behavior. For PLCR, PLCL, LCR, and LCL, this would be the one lane over from the current lane.\n",
    "* **Final lane:** the immediate resulting lane of the given behavior. For LCR and LCL, this would be one lane over.\n",
    "* The Δs distance to the goal.\n",
    "* The goal lane."
   ]
  },
  {
   "cell_type": "code",
   "execution_count": 2,
   "metadata": {},
   "outputs": [],
   "source": [
    "double goal_distance_cost(int goal_lane, int intended_lane, int final_lane, \n",
    "                          double distance_to_goal) {\n",
    "  // The cost increases with both the distance of intended lane from the goal\n",
    "  //   and the distance of the final lane from the goal. The cost of being out \n",
    "  //   of the goal lane also becomes larger as the vehicle approaches the goal.\n",
    "  double delta_s = distance_to_goal;\n",
    "  int delta_d = 2 * goal_lane - intended_lane - final_lane;\n",
    "  if(delta_d < 0) {\n",
    "      delta_d *= -1;\n",
    "  }\n",
    "  double cost = 1 - exp(-(delta_d)/delta_s);\n",
    "    \n",
    "  return cost;\n",
    "}"
   ]
  },
  {
   "cell_type": "code",
   "execution_count": 3,
   "metadata": {},
   "outputs": [
    {
     "name": "stdout",
     "output_type": "stream",
     "text": [
      "Costs for (intended_lane, final_lane, goal_distance):\n",
      "---------------------------------------------------------\n",
      "The cost is 0.981684 for (2, 2, 1.0)\n",
      "The cost is 0.32968 for (2, 2, 10.0)\n",
      "The cost is 0.0392106 for (2, 2, 100.0)\n",
      "The cost is 0.0295545 for (1, 2, 100.0)\n",
      "The cost is 0.0198013 for (1, 1, 100.0)\n",
      "The cost is 0.00995017 for (0, 1, 100.0)\n",
      "The cost is 0 for (0, 0, 100.0)\n"
     ]
    }
   ],
   "source": [
    "{\n",
    "    int goal_lane = 0;\n",
    "\n",
    "    double cost;\n",
    "    std::cout << \"Costs for (intended_lane, final_lane, goal_distance):\" << std::endl;\n",
    "    std::cout << \"---------------------------------------------------------\" << std::endl;\n",
    "    cost = goal_distance_cost(goal_lane, 2, 2, 1.0);\n",
    "    std::cout << \"The cost is \" << cost << \" for \" << \"(2, 2, 1.0)\" << std::endl;\n",
    "    cost = goal_distance_cost(goal_lane, 2, 2, 10.0);\n",
    "    std::cout << \"The cost is \" << cost << \" for \" << \"(2, 2, 10.0)\" << std::endl;\n",
    "    cost = goal_distance_cost(goal_lane, 2, 2, 100.0);\n",
    "    std::cout << \"The cost is \" << cost << \" for \" << \"(2, 2, 100.0)\" << std::endl;\n",
    "    cost = goal_distance_cost(goal_lane, 1, 2, 100.0);\n",
    "    std::cout << \"The cost is \" << cost << \" for \" << \"(1, 2, 100.0)\" << std::endl;\n",
    "    cost = goal_distance_cost(goal_lane, 1, 1, 100.0);\n",
    "    std::cout << \"The cost is \" << cost << \" for \" << \"(1, 1, 100.0)\" << std::endl;\n",
    "    cost = goal_distance_cost(goal_lane, 0, 1, 100.0);\n",
    "    std::cout << \"The cost is \" << cost << \" for \" << \"(0, 1, 100.0)\" << std::endl;\n",
    "    cost = goal_distance_cost(goal_lane, 0, 0, 100.0);\n",
    "    std::cout << \"The cost is \" << cost << \" for \" << \"(0, 0, 100.0)\" << std::endl;    \n",
    "}"
   ]
  },
  {
   "cell_type": "markdown",
   "metadata": {},
   "source": [
    "## Fastest lane cost function\n",
    "Create a cost function that would make the vehicle drive in the fastest possible lane, given several behavior options. Inputs:\n",
    "\n",
    "* Target speed: Currently set as 10 (unitless), the speed at which you would like the vehicle to travel.\n",
    "* Intended lane: the intended lane for the given behavior. For PLCR, PLCL, LCR, and LCL, this would be the one lane over from the current lane.\n",
    "* Final lane: the immediate resulting lane of the given behavior. For LCR and LCL, this would be one lane over.\n",
    "* A vector of lane speeds, based on traffic in that lane: {6, 7, 8, 9}.\n",
    "\n",
    "Create a cost function that satisifes:\n",
    "* The cost decreases as both intended lane and final lane are higher speed lanes.\n",
    "* The cost function provides different costs for each possible behavior: KL, PLCR/PLCL, LCR/LCL.\n",
    "* The values produced by the cost function are in the range 0 to 1."
   ]
  },
  {
   "cell_type": "code",
   "execution_count": 4,
   "metadata": {},
   "outputs": [],
   "source": [
    "double inefficiency_cost(int target_speed, int intended_lane, int final_lane, \n",
    "                         const std::vector<int> &lane_speeds) {\n",
    "  // Cost becomes higher for trajectories with intended lane and final lane \n",
    "  //   that have traffic slower than target_speed.\n",
    "  double speed_intended = lane_speeds[intended_lane];\n",
    "  double speed_final = lane_speeds[final_lane];\n",
    "  double cost = (2.0*target_speed - speed_intended - speed_final)/target_speed;\n",
    "  return cost;\n",
    "}"
   ]
  },
  {
   "cell_type": "code",
   "execution_count": 5,
   "metadata": {},
   "outputs": [
    {
     "name": "stdout",
     "output_type": "stream",
     "text": [
      "Costs for (intended_lane, final_lane):\n",
      "---------------------------------------------------------\n",
      "The cost is 0.2 for (3, 3)\n",
      "The cost is 0.3 for (2, 3)\n",
      "The cost is 0.4 for (2, 2)\n",
      "The cost is 0.5 for (1, 2)\n",
      "The cost is 0.6 for (1, 1)\n",
      "The cost is 0.7 for (0, 1)\n",
      "The cost is 0.8 for (0, 0)\n"
     ]
    }
   ],
   "source": [
    "{\n",
    "  // Target speed of our vehicle\n",
    "  int target_speed = 10;\n",
    "\n",
    "  // Lane speeds for each lane\n",
    "  std::vector<int> lane_speeds = {6, 7, 8, 9};\n",
    "    \n",
    "  // Test cases used for grading - do not change.\n",
    "  double cost;\n",
    "  std::cout << \"Costs for (intended_lane, final_lane):\" << std::endl;\n",
    "  std::cout << \"---------------------------------------------------------\" << std::endl;\n",
    "  cost = inefficiency_cost(target_speed, 3, 3, lane_speeds);\n",
    "  std::cout << \"The cost is \" << cost << \" for \" << \"(3, 3)\" << std::endl;\n",
    "  cost = inefficiency_cost(target_speed, 2, 3, lane_speeds);\n",
    "  std::cout << \"The cost is \" << cost << \" for \" << \"(2, 3)\" << std::endl;\n",
    "  cost = inefficiency_cost(target_speed, 2, 2, lane_speeds);\n",
    "  std::cout << \"The cost is \" << cost << \" for \" << \"(2, 2)\" << std::endl;\n",
    "  cost = inefficiency_cost(target_speed, 1, 2, lane_speeds);\n",
    "  std::cout << \"The cost is \" << cost << \" for \" << \"(1, 2)\" << std::endl;\n",
    "  cost = inefficiency_cost(target_speed, 1, 1, lane_speeds);\n",
    "  std::cout << \"The cost is \" << cost << \" for \" << \"(1, 1)\" << std::endl;\n",
    "  cost = inefficiency_cost(target_speed, 0, 1, lane_speeds);\n",
    "  std::cout << \"The cost is \" << cost << \" for \" << \"(0, 1)\" << std::endl;\n",
    "  cost = inefficiency_cost(target_speed, 0, 0, lane_speeds);\n",
    "  std::cout << \"The cost is \" << cost << \" for \" << \"(0, 0)\" << std::endl;\n",
    "}"
   ]
  },
  {
   "cell_type": "code",
   "execution_count": null,
   "metadata": {},
   "outputs": [],
   "source": []
  }
 ],
 "metadata": {
  "kernelspec": {
   "display_name": "C++14",
   "language": "C++14",
   "name": "xeus-cling-cpp14"
  },
  "language_info": {
   "codemirror_mode": "text/x-c++src",
   "file_extension": ".cpp",
   "mimetype": "text/x-c++src",
   "name": "c++",
   "version": "-std=c++14"
  }
 },
 "nbformat": 4,
 "nbformat_minor": 2
}
